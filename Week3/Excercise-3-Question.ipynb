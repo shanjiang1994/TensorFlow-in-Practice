{
 "cells": [
  {
   "cell_type": "markdown",
   "metadata": {
    "colab_type": "text",
    "id": "iQjHqsmTAVLU"
   },
   "source": [
    "## Exercise 3\n",
    "In the videos you looked at how you would improve Fashion MNIST using Convolutions. For your exercise see if you can improve MNIST to 99.8% accuracy or more using only a single convolutional layer and a single MaxPooling 2D. You should stop training once the accuracy goes above this amount. It should happen in less than 20 epochs, so it's ok to hard code the number of epochs for training, but your training must end once it hits the above metric. If it doesn't, then you'll need to redesign your layers.\n",
    "\n",
    "I've started the code for you -- you need to finish it!\n",
    "\n",
    "When 99.8% accuracy has been hit, you should print out the string \"Reached 99.8% accuracy so cancelling training!\"\n"
   ]
  },
  {
   "cell_type": "code",
   "execution_count": 4,
   "metadata": {},
   "outputs": [],
   "source": [
    "import tensorflow as tf\n",
    "from os import path, getcwd, chdir\n",
    "\n",
    "# DO NOT CHANGE THE LINE BELOW. If you are developing in a local\n",
    "# environment, then grab mnist.npz from the Coursera Jupyter Notebook\n",
    "# and place it inside a local folder and edit the path to that location\n",
    "path = f\"{getcwd()}/../tmp2/mnist.npz\""
   ]
  },
  {
   "cell_type": "code",
   "execution_count": 5,
   "metadata": {},
   "outputs": [],
   "source": [
    "config = tf.ConfigProto()\n",
    "config.gpu_options.allow_growth = True\n",
    "sess = tf.Session(config=config)"
   ]
  },
  {
   "cell_type": "code",
   "execution_count": 24,
   "metadata": {},
   "outputs": [],
   "source": [
    "# GRADED FUNCTION: train_mnist_conv\n",
    "def train_mnist_conv():\n",
    "    # Please write your code only where you are indicated.\n",
    "    # please do not remove model fitting inline comments.\n",
    "\n",
    "    # YOUR CODE STARTS HERE\n",
    "    # callback\n",
    "    class myCallback(tf.keras.callbacks.Callback):\n",
    "        def on_epoch_end(self,epoch,logs={}):\n",
    "            if(logs.get('loss')>0.998):\n",
    "                print(\"\\nReached 99.8% accuracy so cancelling training!\")\n",
    "                self.model.stop_training = True\n",
    "    callbacks = myCallback()\n",
    "    \n",
    "    # YOUR CODE ENDS HERE\n",
    "    \n",
    "    \n",
    "    \n",
    "    \n",
    "    mnist = tf.keras.datasets.mnist\n",
    "    (training_images, training_labels), (test_images, test_labels) = mnist.load_data(path=path)\n",
    "    \n",
    "    \n",
    "    \n",
    "    \n",
    "    # YOUR CODE STARTS HERE\n",
    "\n",
    "    # expected conv2d_4_input to have 4 dimensions\n",
    "    # When you write input_shape = (m,n,c) each of your input images should be made of m*n pixels and c channels.\n",
    "    # If your input image dimensions are correct still you are getting this error then you might want to try reshaping your input vector which you pass as X to the model.\n",
    "    # It should be reshaped to (N,n,m,c) Where N = Number of input images and each image is of n*m pixels and of [c] channels.\n",
    "    # can also use -1 to unspecify the 1st demision reshape(-1, 28, 28, 1)\n",
    "    training_images = training_images.reshape(60000, 28, 28, 1) # or reshape(-1, 28, 28, 1)\n",
    "    training_images = training_images/255.0\n",
    "    test_images = test_images.reshape(10000, 28, 28, 1) # or reshape(-1, 28, 28, 1)\n",
    "    test_images=test_images/255.0\n",
    "    \n",
    "    # YOUR CODE ENDS HERE\n",
    "\n",
    "    \n",
    "    \n",
    "    \n",
    "    model = tf.keras.models.Sequential([\n",
    "            # YOUR CODE STARTS HERE\n",
    "        tf.keras.layers.Conv2D(64,(3,3),activation = 'relu', input_shape=(28,28,1)),\n",
    "        tf.keras.layers.MaxPooling2D(2,2),\n",
    "        \n",
    "        \n",
    "        tf.keras.layers.Conv2D(64,(3,3),activation = 'relu'),\n",
    "        tf.keras.layers.MaxPooling2D(2,2),\n",
    "        \n",
    "        \n",
    "        tf.keras.layers.Flatten(),\n",
    "        tf.keras.layers.Dense(128,activation= 'relu'),\n",
    "        tf.keras.layers.Dense(10,activation = 'softmax'),\n",
    "            # YOUR CODE ENDS HERE\n",
    "    ])\n",
    "\n",
    "    model.compile(optimizer='adam', loss='sparse_categorical_crossentropy', metrics=['accuracy'])\n",
    "    # model fitting\n",
    "    history = model.fit(\n",
    "        # YOUR CODE STARTS HERE\n",
    "        training_images,\n",
    "        training_labels,\n",
    "        epochs =19,\n",
    "        callbacks=[callbacks]\n",
    "        # YOUR CODE ENDS HERE\n",
    "    )\n",
    "    # model fitting\n",
    "    return history.epoch, history.history['acc'][-1]\n",
    "\n"
   ]
  },
  {
   "cell_type": "code",
   "execution_count": 25,
   "metadata": {},
   "outputs": [
    {
     "name": "stdout",
     "output_type": "stream",
     "text": [
      "Epoch 1/19\n",
      "60000/60000 [==============================] - 17s 290us/sample - loss: 0.1221 - acc: 0.9624\n",
      "Epoch 2/19\n",
      "60000/60000 [==============================] - 18s 293us/sample - loss: 0.0408 - acc: 0.9872\n",
      "Epoch 3/19\n",
      "60000/60000 [==============================] - 17s 288us/sample - loss: 0.0273 - acc: 0.9913\n",
      "Epoch 4/19\n",
      "60000/60000 [==============================] - 17s 282us/sample - loss: 0.0198 - acc: 0.9936\n",
      "Epoch 5/19\n",
      "60000/60000 [==============================] - 17s 283us/sample - loss: 0.0140 - acc: 0.9956\n",
      "Epoch 6/19\n",
      "60000/60000 [==============================] - 17s 277us/sample - loss: 0.0119 - acc: 0.9958\n",
      "Epoch 7/19\n",
      "60000/60000 [==============================] - 17s 277us/sample - loss: 0.0094 - acc: 0.9968\n",
      "Epoch 8/19\n",
      "60000/60000 [==============================] - 17s 277us/sample - loss: 0.0075 - acc: 0.9976\n",
      "Epoch 9/19\n",
      "60000/60000 [==============================] - 16s 273us/sample - loss: 0.0071 - acc: 0.9974\n",
      "Epoch 10/19\n",
      "60000/60000 [==============================] - 17s 283us/sample - loss: 0.0071 - acc: 0.9974\n",
      "Epoch 11/19\n",
      "60000/60000 [==============================] - 17s 287us/sample - loss: 0.0059 - acc: 0.9980\n",
      "Epoch 12/19\n",
      "60000/60000 [==============================] - 17s 282us/sample - loss: 0.0049 - acc: 0.9985\n",
      "Epoch 13/19\n",
      "60000/60000 [==============================] - 17s 275us/sample - loss: 0.0051 - acc: 0.9984\n",
      "Epoch 14/19\n",
      "60000/60000 [==============================] - 17s 280us/sample - loss: 0.0041 - acc: 0.9988\n",
      "Epoch 15/19\n",
      "60000/60000 [==============================] - 17s 283us/sample - loss: 0.0040 - acc: 0.9988\n",
      "Epoch 16/19\n",
      "60000/60000 [==============================] - 17s 280us/sample - loss: 0.0039 - acc: 0.9985\n",
      "Epoch 17/19\n",
      "60000/60000 [==============================] - 17s 283us/sample - loss: 0.0035 - acc: 0.9989\n",
      "Epoch 18/19\n",
      "60000/60000 [==============================] - 17s 288us/sample - loss: 0.0027 - acc: 0.9992\n",
      "Epoch 19/19\n",
      "60000/60000 [==============================] - 18s 293us/sample - loss: 0.0041 - acc: 0.9987\n"
     ]
    }
   ],
   "source": [
    "_, _ = train_mnist_conv()"
   ]
  },
  {
   "cell_type": "code",
   "execution_count": 26,
   "metadata": {},
   "outputs": [],
   "source": [
    "# Now click the 'Submit Assignment' button above.\n",
    "# Once that is complete, please run the following two cells to save your work and close the notebook"
   ]
  },
  {
   "cell_type": "code",
   "execution_count": null,
   "metadata": {},
   "outputs": [],
   "source": [
    "%%javascript\n",
    "<!-- Save the notebook -->\n",
    "IPython.notebook.save_checkpoint();"
   ]
  },
  {
   "cell_type": "code",
   "execution_count": null,
   "metadata": {},
   "outputs": [],
   "source": [
    "%%javascript\n",
    "IPython.notebook.session.delete();\n",
    "window.onbeforeunload = null\n",
    "setTimeout(function() { window.close(); }, 1000);"
   ]
  }
 ],
 "metadata": {
  "coursera": {
   "course_slug": "introduction-tensorflow",
   "graded_item_id": "ml06H",
   "launcher_item_id": "hQF8A"
  },
  "kernelspec": {
   "display_name": "Python 3",
   "language": "python",
   "name": "python3"
  },
  "language_info": {
   "codemirror_mode": {
    "name": "ipython",
    "version": 3
   },
   "file_extension": ".py",
   "mimetype": "text/x-python",
   "name": "python",
   "nbconvert_exporter": "python",
   "pygments_lexer": "ipython3",
   "version": "3.6.8"
  }
 },
 "nbformat": 4,
 "nbformat_minor": 1
}
